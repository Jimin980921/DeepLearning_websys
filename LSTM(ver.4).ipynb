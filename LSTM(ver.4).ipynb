{
  "nbformat": 4,
  "nbformat_minor": 0,
  "metadata": {
    "colab": {
      "name": "ver4.ipynb",
      "provenance": [],
      "collapsed_sections": []
    },
    "kernelspec": {
      "name": "python3",
      "display_name": "Python 3"
    }
  },
  "cells": [
    {
      "cell_type": "code",
      "metadata": {
        "id": "IoTx0EOsLpOM"
      },
      "source": [
        "import math\r\n",
        "import pandas as pd\r\n",
        "import numpy as np\r\n",
        "from sklearn.preprocessing import MinMaxScaler\r\n",
        "\r\n",
        "from tensorflow.python.keras.models import Sequential\r\n",
        "from tensorflow.python.keras.layers import LSTM, Dense\r\n",
        "from tensorflow.python.keras.callbacks import EarlyStopping"
      ],
      "execution_count": 1,
      "outputs": []
    },
    {
      "cell_type": "code",
      "metadata": {
        "colab": {
          "resources": {
            "http://localhost:8080/nbextensions/google.colab/files.js": {
              "data": "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",
              "ok": true,
              "headers": [
                [
                  "content-type",
                  "application/javascript"
                ]
              ],
              "status": 200,
              "status_text": ""
            }
          },
          "base_uri": "https://localhost:8080/",
          "height": 114
        },
        "id": "ANbVOAl_LttS",
        "outputId": "20183819-f939-49b7-9bf2-d5ef0e77e5be"
      },
      "source": [
        "from google.colab import files\r\n",
        "\r\n",
        "files.upload()"
      ],
      "execution_count": 3,
      "outputs": [
        {
          "output_type": "display_data",
          "data": {
            "text/html": [
              "\n",
              "     <input type=\"file\" id=\"files-aa5693dd-fe91-4c04-8e3e-76be2596a390\" name=\"files[]\" multiple disabled\n",
              "        style=\"border:none\" />\n",
              "     <output id=\"result-aa5693dd-fe91-4c04-8e3e-76be2596a390\">\n",
              "      Upload widget is only available when the cell has been executed in the\n",
              "      current browser session. Please rerun this cell to enable.\n",
              "      </output>\n",
              "      <script src=\"/nbextensions/google.colab/files.js\"></script> "
            ],
            "text/plain": [
              "<IPython.core.display.HTML object>"
            ]
          },
          "metadata": {
            "tags": []
          }
        },
        {
          "output_type": "stream",
          "text": [
            "Saving heat_data.csv to heat_data.csv\n"
          ],
          "name": "stdout"
        },
        {
          "output_type": "execute_result",
          "data": {
            "text/plain": [
              "{'heat_data.csv': b'\\xef\\xbb\\xbf6046.395\\r\\n6014.94\\r\\n6013.05\\r\\n5978.22\\r\\n6165.06\\r\\n7182.15\\r\\n8065.185\\r\\n10089.78\\r\\n11262.66\\r\\n11447.34\\r\\n11473.935\\r\\n10850.37\\r\\n10572.405\\r\\n11328\\r\\n11038.56\\r\\n10857.93\\r\\n10780.44\\r\\n10344.93\\r\\n8965.77\\r\\n8387.43\\r\\n7887.525\\r\\n7360.08\\r\\n6793.08\\r\\n6473.265\\r\\n6161.55\\r\\n6057.87\\r\\n6087.165\\r\\n6116.19\\r\\n6566.01\\r\\n7175.265\\r\\n8169\\r\\n10230.99\\r\\n11284.26\\r\\n11480.685\\r\\n11466.105\\r\\n10668.795\\r\\n10244.895\\r\\n10910.58\\r\\n10830.255\\r\\n10700.79\\r\\n10474.125\\r\\n10102.335\\r\\n8957.535\\r\\n8284.425\\r\\n7903.32\\r\\n7363.05\\r\\n6821.835\\r\\n6493.515\\r\\n6109.035\\r\\n6072.72\\r\\n6059.49\\r\\n6097.56\\r\\n6319.77\\r\\n7129.5\\r\\n8133.765\\r\\n9753.765\\r\\n11307.345\\r\\n11422.365\\r\\n11572.89\\r\\n10752.9\\r\\n10233.555\\r\\n10873.455\\r\\n10855.77\\r\\n10759.38\\r\\n10760.055\\r\\n10189.005\\r\\n8991.285\\r\\n8470.86\\r\\n8124.72\\r\\n7511.82\\r\\n6946.17\\r\\n6685.62\\r\\n6540.36\\r\\n6423.72\\r\\n6733.95\\r\\n6798.48\\r\\n6806.58\\r\\n8274.57\\r\\n9784.95\\r\\n10685.805\\r\\n11893.65\\r\\n12275.97\\r\\n12248.295\\r\\n11657.94\\r\\n11152.365\\r\\n12030\\r\\n11393.34\\r\\n11458.815\\r\\n11205.285\\r\\n11096.205\\r\\n9442.185\\r\\n8879.235\\r\\n8335.725\\r\\n7750.5\\r\\n7158.66\\r\\n6816.03\\r\\n6699.525\\r\\n6467.19\\r\\n6679.68\\r\\n6826.29\\r\\n6923.22\\r\\n7468.08\\r\\n8497.32\\r\\n10717.125\\r\\n12009.21\\r\\n12227.775\\r\\n12325.515\\r\\n11984.775\\r\\n11648.49\\r\\n11755.41\\r\\n11656.86\\r\\n11517.675\\r\\n11297.49\\r\\n11181.66\\r\\n9736.485\\r\\n9076.74\\r\\n8535.795\\r\\n7895.625\\r\\n7218.87\\r\\n7404.495\\r\\n6440.055\\r\\n6354.735\\r\\n6407.25\\r\\n6462.195\\r\\n6835.065\\r\\n7469.97\\r\\n9036.78\\r\\n10800.285\\r\\n11880.15\\r\\n12167.835\\r\\n12284.205\\r\\n11464.215\\r\\n11098.095\\r\\n11733.405\\r\\n11520.51\\r\\n11357.7\\r\\n11121.72\\r\\n11003.325\\r\\n9496.995\\r\\n8838.195\\r\\n8360.835\\r\\n7859.175\\r\\n7272.195\\r\\n6884.745\\r\\n6143.595\\r\\n6064.35\\r\\n6220.275\\r\\n6527.13\\r\\n6627.84\\r\\n7635.48\\r\\n9440.565\\r\\n10512.06\\r\\n11754.33\\r\\n11864.49\\r\\n11676.84\\r\\n11247.27\\r\\n10470.885\\r\\n10795.425\\r\\n10804.065\\r\\n10520.025\\r\\n10429.035\\r\\n10288.095\\r\\n9225.105\\r\\n8534.31\\r\\n8192.085\\r\\n7607.265\\r\\n7100.475\\r\\n6695.205\\r\\n6182.61\\r\\n6082.44\\r\\n6116.73\\r\\n6102.825\\r\\n6196.785\\r\\n7324.44\\r\\n9161.655\\r\\n10195.89\\r\\n11321.52\\r\\n11471.1\\r\\n11378.085\\r\\n10590.36\\r\\n10009.725\\r\\n10341.825\\r\\n10246.65\\r\\n9917.385\\r\\n9996.09\\r\\n9837.06\\r\\n8888.82\\r\\n8301.165\\r\\n7832.04\\r\\n7437.705\\r\\n6967.77\\r\\n6747.045\\r\\n6148.59\\r\\n6129.15\\r\\n6156.825\\r\\n6068.535\\r\\n6209.88\\r\\n7010.7\\r\\n8038.32\\r\\n9367.395\\r\\n10785.84\\r\\n10903.29\\r\\n10957.695\\r\\n10166.46\\r\\n9743.64\\r\\n10410.945\\r\\n10188.87\\r\\n9818.565\\r\\n9691.395\\r\\n9544.785\\r\\n8697.525\\r\\n8155.905\\r\\n7749.555\\r\\n7320.12\\r\\n6826.155\\r\\n6451.8\\r\\n6057.6\\r\\n5984.16\\r\\n5957.16\\r\\n5996.31\\r\\n6200.295\\r\\n7165.68\\r\\n8074.77\\r\\n9980.43\\r\\n10862.655\\r\\n10728.06\\r\\n10797.315\\r\\n10224.51\\r\\n9657.24\\r\\n9868.11\\r\\n9968.145\\r\\n9795.615\\r\\n9735.945\\r\\n9542.895\\r\\n8576.565\\r\\n8027.52\\r\\n7620.765\\r\\n7180.53\\r\\n6691.425\\r\\n6417.375\\r\\n5875.215\\r\\n5789.895\\r\\n5993.475\\r\\n6024.12\\r\\n6251.73\\r\\n6899.055\\r\\n7634.13\\r\\n8930.535\\r\\n9810.735\\r\\n10131.9\\r\\n10116.645\\r\\n9999.6\\r\\n9716.235\\r\\n10162.005\\r\\n9993.12\\r\\n9905.91\\r\\n9744.45\\r\\n9491.055\\r\\n8739.105\\r\\n7966.23\\r\\n7593.63\\r\\n7118.025\\r\\n6562.905\\r\\n6346.095\\r\\n5956.62\\r\\n5864.28\\r\\n5816.355\\r\\n5838.495\\r\\n5956.215\\r\\n6785.115\\r\\n7607.67\\r\\n8766.915\\r\\n10071.015\\r\\n10140.54\\r\\n10134.06\\r\\n9918.6\\r\\n9473.64\\r\\n9709.89\\r\\n9736.755\\r\\n9558.015\\r\\n9411.135\\r\\n9327.705\\r\\n8428.2\\r\\n7855.665\\r\\n7502.91\\r\\n6993.96\\r\\n6512.415\\r\\n6214.47\\r\\n6042.075\\r\\n6029.25\\r\\n5999.82\\r\\n5993.745\\r\\n6400.23\\r\\n6947.79\\r\\n7600.785\\r\\n8379.06\\r\\n9414.78\\r\\n9852.45\\r\\n9824.505\\r\\n9729.735\\r\\n9485.52\\r\\n9841.11\\r\\n9771.72\\r\\n9734.595\\r\\n9570.435\\r\\n9378.06\\r\\n8539.98\\r\\n8047.23\\r\\n7718.775\\r\\n7384.11\\r\\n6897.57\\r\\n6539.955\\r\\n5876.16\\r\\n5780.715\\r\\n5807.985\\r\\n5769.645\\r\\n5919.36\\r\\n6723.42\\r\\n7551.375\\r\\n8589.795\\r\\n9915.36\\r\\n10372.47\\r\\n10255.02\\r\\n10062.105\\r\\n9622.68\\r\\n9988.8\\r\\n9710.295\\r\\n9708.27\\r\\n9644.28\\r\\n9346.605\\r\\n8393.235\\r\\n7846.62\\r\\n7458.63\\r\\n7024.335\\r\\n6456.525\\r\\n6197.325\\r\\n5782.335\\r\\n5765.055\\r\\n5756.55\\r\\n5797.995\\r\\n5818.245\\r\\n6601.245\\r\\n7421.64\\r\\n8365.83\\r\\n9349.845\\r\\n9688.56\\r\\n9769.02\\r\\n9719.07\\r\\n9298.95\\r\\n9463.245\\r\\n9842.325\\r\\n9686.265\\r\\n9600.945\\r\\n9218.625\\r\\n8256.615\\r\\n7665.18\\r\\n7270.845\\r\\n6848.16\\r\\n6389.97\\r\\n6161.82\\r\\n5833.635\\r\\n5767.215\\r\\n5796.105\\r\\n5824.455\\r\\n5960.94\\r\\n6699.39\\r\\n7439.325\\r\\n8227.455\\r\\n9276.27\\r\\n9716.775\\r\\n9768.48\\r\\n9716.235\\r\\n9494.565\\r\\n9685.185\\r\\n9704.355\\r\\n9556.665\\r\\n9477.555\\r\\n9322.305\\r\\n8337.21\\r\\n7788.435\\r\\n7343.475\\r\\n7003.95\\r\\n6526.725\\r\\n6165.6\\r\\n5901.81\\r\\n5840.79\\r\\n5791.38\\r\\n5837.685\\r\\n6300.195\\r\\n6751.635\\r\\n7316.745\\r\\n8017.935\\r\\n8644.47\\r\\n9285.72\\r\\n9468.24\\r\\n9397.095\\r\\n9296.115\\r\\n9388.455\\r\\n9682.89\\r\\n9607.425\\r\\n9530.88\\r\\n9337.425\\r\\n8417.67\\r\\n7804.635\\r\\n7463.085\\r\\n7078.74\\r\\n6605.295\\r\\n6384.165\\r\\n5959.185\\r\\n5836.74\\r\\n5911.665\\r\\n5981.73\\r\\n6051.39\\r\\n6663.21\\r\\n7451.745\\r\\n8286.45\\r\\n9213.36\\r\\n10208.04\\r\\n10222.35\\r\\n10205.88\\r\\n9944.25\\r\\n10238.28\\r\\n10221.675\\r\\n10150.935\\r\\n10106.79\\r\\n9889.035\\r\\n8814.03\\r\\n8233.665\\r\\n7893.06\\r\\n7446.075\\r\\n6767.295\\r\\n6421.56\\r\\n5885.475\\r\\n5818.245\\r\\n5813.385\\r\\n5770.86\\r\\n5908.695\\r\\n6794.295\\r\\n7395.855\\r\\n8264.58\\r\\n8808.36\\r\\n9318.39\\r\\n9382.65\\r\\n9468.51\\r\\n9367.8\\r\\n9799.935\\r\\n9758.355\\r\\n9721.77\\r\\n9584.07\\r\\n9431.25\\r\\n8476.53\\r\\n7906.83\\r\\n7605.24\\r\\n7265.58\\r\\n6637.29\\r\\n6213.93\\r\\n6117.945\\r\\n6074.475\\r\\n6045.045\\r\\n6074.205\\r\\n6138.6\\r\\n7033.11\\r\\n7951.11\\r\\n8786.085\\r\\n9755.115\\r\\n10212.9\\r\\n10348.575\\r\\n10340.07\\r\\n10293.09\\r\\n10479.525\\r\\n10569.975\\r\\n10520.835\\r\\n10475.475\\r\\n10409.46\\r\\n9467.295\\r\\n8694.96\\r\\n8287.935\\r\\n7857.69\\r\\n7239.39\\r\\n6783.36\\r\\n6359.19\\r\\n6262.395\\r\\n6415.35\\r\\n6421.965\\r\\n6468.54\\r\\n7481.04\\r\\n8520.135\\r\\n9338.235\\r\\n10392.45\\r\\n10704.975\\r\\n10435.11\\r\\n10367.745\\r\\n10175.37\\r\\n10659.21\\r\\n10540.41\\r\\n10556.34\\r\\n10411.62\\r\\n10804.335\\r\\n9417.345\\r\\n8653.245\\r\\n8222.865\\r\\n7797.75\\r\\n7071.045\\r\\n6659.43\\r\\n6197.19\\r\\n6137.925\\r\\n6209.475\\r\\n6377.28\\r\\n6556.56\\r\\n7399.635\\r\\n8175.75\\r\\n9022.47\\r\\n10037.94\\r\\n11025.6\\r\\n11370.93\\r\\n10994.28\\r\\n10595.355\\r\\n11180.04\\r\\n11289.795\\r\\n11214.465\\r\\n10971.735\\r\\n10434.3\\r\\n9211.74\\r\\n8626.38\\r\\n8056.815\\r\\n7484.55\\r\\n6907.29\\r\\n6533.61\\r\\n6415.215\\r\\n6336.105\\r\\n6337.185\\r\\n6346.5\\r\\n6919.98\\r\\n7583.1\\r\\n8386.62\\r\\n9421.935\\r\\n10470.345\\r\\n11210.82\\r\\n11426.28\\r\\n10997.79\\r\\n11042.07\\r\\n12350.895\\r\\n12191.055\\r\\n12083.055\\r\\n12229.26\\r\\n11420.475\\r\\n10101.39\\r\\n9148.965\\r\\n8520.945\\r\\n8004.435\\r\\n7273.815\\r\\n6856.8\\r\\n6460.845\\r\\n6400.23\\r\\n6363.105\\r\\n6447.345\\r\\n7089.135\\r\\n7715.94\\r\\n8456.01\\r\\n9652.515\\r\\n10639.365\\r\\n11434.785\\r\\n11629.185\\r\\n11175.72\\r\\n11557.77\\r\\n13118.235\\r\\n12658.965\\r\\n12383.025\\r\\n12464.295\\r\\n12372.63\\r\\n10100.04\\r\\n9353.625\\r\\n8872.89\\r\\n8383.11\\r\\n7542.735\\r\\n7103.445\\r\\n6517.41\\r\\n6474.885\\r\\n6426.96\\r\\n6430.2\\r\\n6522.675\\r\\n7810.845\\r\\n8554.02\\r\\n9385.89\\r\\n10455.36\\r\\n11003.19\\r\\n11206.635\\r\\n11337.18\\r\\n11177.61\\r\\n11479.335\\r\\n12301.215\\r\\n12253.695\\r\\n12071.04\\r\\n10457.25\\r\\n9694.635\\r\\n9108.06\\r\\n8680.92\\r\\n8136.735\\r\\n7412.73\\r\\n6965.07\\r\\n6488.25\\r\\n6417.645\\r\\n6375.255\\r\\n6394.965\\r\\n6589.5\\r\\n7612.665\\r\\n8355.03\\r\\n9331.62\\r\\n10306.455\\r\\n11217.3\\r\\n11173.56\\r\\n10594.14\\r\\n10297.815\\r\\n10717.665\\r\\n10773.15\\r\\n10616.55\\r\\n10399.335\\r\\n10411.62\\r\\n9436.38\\r\\n8876.805\\r\\n8473.965\\r\\n8056.005\\r\\n7444.86\\r\\n7003.275\\r\\n7042.425\\r\\n6954.675\\r\\n6944.685\\r\\n7071.18\\r\\n7884.285\\r\\n8408.49\\r\\n9167.865\\r\\n10382.325\\r\\n12462.405\\r\\n13026.57\\r\\n13367.445\\r\\n12849.855\\r\\n12004.89\\r\\n13282.26\\r\\n13093.26\\r\\n13107.705\\r\\n12977.025\\r\\n12785.595\\r\\n10204.665\\r\\n9925.08\\r\\n9673.71\\r\\n8900.97\\r\\n7993.365\\r\\n7509.525\\r\\n7063.755\\r\\n7013.4\\r\\n7134.765\\r\\n7125.72\\r\\n8046.015\\r\\n8587.635\\r\\n9414.51\\r\\n11007.105\\r\\n13026.165\\r\\n13862.355\\r\\n14052.84\\r\\n13788.105\\r\\n13337.61\\r\\n13579.665\\r\\n13302.375\\r\\n13232.445\\r\\n13495.155\\r\\n13398.09\\r\\n10529.745\\r\\n9710.295\\r\\n9735.675\\r\\n9189.465\\r\\n8377.035\\r\\n7712.835\\r\\n7157.445\\r\\n7125.855\\r\\n7101.69\\r\\n7140.84\\r\\n7325.52\\r\\n8608.965\\r\\n9362.4\\r\\n11105.79\\r\\n13345.17\\r\\n13450.47\\r\\n13850.745\\r\\n13715.475\\r\\n13061.265\\r\\n13825.77\\r\\n13615.305\\r\\n13466.94\\r\\n13479.225\\r\\n13207.2\\r\\n10358.16\\r\\n9748.905\\r\\n10070.205\\r\\n9224.835\\r\\n8198.16\\r\\n7749.15\\r\\n7394.91\\r\\n7287.045\\r\\n7558.395\\r\\n7941.795\\r\\n7697.04\\r\\n8849.94\\r\\n9835.44\\r\\n11740.425\\r\\n13781.895\\r\\n14035.83\\r\\n14108.865\\r\\n13161.03\\r\\n13134.57\\r\\n14047.575\\r\\n13786.08\\r\\n13576.425\\r\\n13974.27\\r\\n13290.63\\r\\n10938.93\\r\\n10318.875\\r\\n10461.435\\r\\n9917.655\\r\\n8704.41\\r\\n8027.52\\r\\n7338.21\\r\\n7297.035\\r\\n7197.81\\r\\n7515.6\\r\\n8370.42\\r\\n8760.3\\r\\n9680.73\\r\\n11618.52\\r\\n13808.22\\r\\n13562.925\\r\\n14285.985\\r\\n13757.73\\r\\n13304.13\\r\\n14598.105\\r\\n14355.375\\r\\n13684.29\\r\\n13331.805\\r\\n13197.75\\r\\n10954.185\\r\\n10346.01\\r\\n10120.56\\r\\n9463.92\\r\\n8400.39\\r\\n7822.455\\r\\n6794.835\\r\\n6711.675\\r\\n6725.715\\r\\n6729.225\\r\\n7393.56\\r\\n8404.44\\r\\n9165.165\\r\\n10968.36\\r\\n12923.16\\r\\n12802.74\\r\\n13188.03\\r\\n13183.71\\r\\n12532.335\\r\\n13057.62\\r\\n12927.75\\r\\n12586.875\\r\\n12676.245\\r\\n12063.345\\r\\n10483.575\\r\\n10101.93\\r\\n9523.59\\r\\n8987.91\\r\\n7913.31\\r\\n7448.37\\r\\n6762.84\\r\\n6696.015\\r\\n6687.24\\r\\n6642.69\\r\\n6890.55\\r\\n7963.395\\r\\n8827.125\\r\\n10167.81\\r\\n10779.495\\r\\n11247.27\\r\\n11686.425\\r\\n11605.965\\r\\n11482.44\\r\\n12381.405\\r\\n12100.47\\r\\n11753.655\\r\\n11599.215\\r\\n11130.9\\r\\n10264.47\\r\\n9673.71\\r\\n9212.28\\r\\n8499.48\\r\\n7578.915\\r\\n7188.63\\r\\n6677.25\\r\\n6510.255\\r\\n6493.38\\r\\n6593.145\\r\\n7109.925\\r\\n8034.945\\r\\n8849.4\\r\\n9815.73\\r\\n10890.465\\r\\n11507.955\\r\\n11859.9\\r\\n11834.925\\r\\n12224.4\\r\\n12806.385\\r\\n12631.83\\r\\n12283.8\\r\\n12118.965\\r\\n11088.375\\r\\n10177.935\\r\\n9571.38\\r\\n9111.03\\r\\n8636.64\\r\\n7493.73\\r\\n7131.93\\r\\n6462.195\\r\\n6415.485\\r\\n6433.71\\r\\n6382.68\\r\\n6656.73\\r\\n8063.16\\r\\n8630.295\\r\\n9532.23\\r\\n10497.615\\r\\n11165.46\\r\\n11343.66\\r\\n11401.17\\r\\n11327.46\\r\\n11535.495\\r\\n11521.725\\r\\n11173.425\\r\\n11116.455\\r\\n10921.92\\r\\n9712.59\\r\\n9246.84\\r\\n8824.29\\r\\n8185.875\\r\\n7445.265\\r\\n6997.605\\r\\n6591.93\\r\\n6538.74\\r\\n6515.79\\r\\n6502.29\\r\\n6676.035\\r\\n8124.315\\r\\n8749.365\\r\\n9543.165\\r\\n10491.135\\r\\n11168.7\\r\\n11489.865\\r\\n11416.695\\r\\n11229.18\\r\\n11443.56\\r\\n11502.015\\r\\n11312.07\\r\\n11168.835\\r\\n10857.39\\r\\n9610.665\\r\\n9110.49\\r\\n8715.615\\r\\n8182.77\\r\\n7347.39\\r\\n6809.415\\r\\n6011.025\\r\\n5929.08\\r\\n5949.465\\r\\n5991.855\\r\\n6320.58\\r\\n7335.645\\r\\n7957.725\\r\\n8832.39\\r\\n9619.575\\r\\n10213.17\\r\\n10442.265\\r\\n10353.3\\r\\n10183.605\\r\\n10337.775\\r\\n10410\\r\\n10229.235\\r\\n10139.19\\r\\n9870.405\\r\\n9022.335\\r\\n8618.955\\r\\n8167.785\\r\\n7775.745\\r\\n7143.81\\r\\n6665.1\\r\\n6042.885\\r\\n6005.76\\r\\n6009.135\\r\\n6012.51\\r\\n6290.61\\r\\n7010.97\\r\\n7630.62\\r\\n8308.725\\r\\n8883.96\\r\\n9206.205\\r\\n9606.345\\r\\n9725.415\\r\\n9490.38\\r\\n9665.475\\r\\n9678.975\\r\\n9609.18\\r\\n9526.965\\r\\n9308.265\\r\\n8576.43\\r\\n8239.47\\r\\n7974.6\\r\\n7447.02\\r\\n6565.605\\r\\n6294.12\\r\\n5781.39\\r\\n5791.65\\r\\n5773.155\\r\\n5784.225\\r\\n6342.855\\r\\n6917.685\\r\\n7405.98\\r\\n7912.5\\r\\n8549.97\\r\\n8799.315\\r\\n8911.23\\r\\n9053.52\\r\\n9073.5\\r\\n9446.91\\r\\n9401.145\\r\\n9395.475\\r\\n9300.705\\r\\n9162.735\\r\\n8298.735\\r\\n8054.655\\r\\n7875.375\\r\\n7560.69\\r\\n6797.13\\r\\n6347.445\\r\\n5817.165\\r\\n5770.86\\r\\n5803.8\\r\\n5800.695\\r\\n5952.57\\r\\n6825.75\\r\\n7552.59\\r\\n8397.96\\r\\n9404.925\\r\\n9775.5\\r\\n9898.08\\r\\n9888.765\\r\\n9735.675\\r\\n10139.865\\r\\n10032.54\\r\\n9847.32\\r\\n9824.235\\r\\n9511.845\\r\\n8630.835\\r\\n8131.74\\r\\n7699.875\\r\\n7321.065\\r\\n6670.5\\r\\n6370.665\\r\\n5811.225\\r\\n5774.235\\r\\n5731.98\\r\\n5793.27\\r\\n5967.285\\r\\n6742.725\\r\\n7451.61\\r\\n8371.905\\r\\n9529.935\\r\\n10035.24\\r\\n10198.455\\r\\n10013.64\\r\\n9712.725\\r\\n9876.615\\r\\n10108.815\\r\\n9940.065\\r\\n9854.475\\r\\n9612.15\\r\\n8402.55\\r\\n8112.03\\r\\n7610.91\\r\\n7166.76\\r\\n6657.135\\r\\n6372.555\\r\\n5783.55\\r\\n5723.07\\r\\n5783.955\\r\\n5778.42\\r\\n5879.67\\r\\n6317.07\\r\\n7359.27\\r\\n8587.5\\r\\n9712.185\\r\\n10053.87\\r\\n10141.755\\r\\n9950.46\\r\\n9575.835\\r\\n9832.74\\r\\n9776.985\\r\\n9512.925\\r\\n9604.59\\r\\n9366.045\\r\\n8451.015\\r\\n7889.415\\r\\n7573.11\\r\\n7179.45\\r\\n6668.88\\r\\n6301.275\\r\\n5788.95\\r\\n5748.855\\r\\n5755.74\\r\\n5781.39\\r\\n5955.54\\r\\n6729.36\\r\\n7603.89\\r\\n8712.645\\r\\n9975.84\\r\\n10171.32\\r\\n10232.745\\r\\n10092.21\\r\\n9667.5\\r\\n10045.905\\r\\n9974.49\\r\\n9390.885\\r\\n5792.73\\r\\n5512.335\\r\\n4771.59\\r\\n4458.525\\r\\n7198.89\\r\\n7247.085\\r\\n6577.08\\r\\n6172.755\\r\\n5681.085\\r\\n5650.305\\r\\n5684.595\\r\\n5849.295\\r\\n6223.92\\r\\n6972.765\\r\\n7722.285\\r\\n8757.465\\r\\n10066.56\\r\\n10555.395\\r\\n10511.115\\r\\n10254.345\\r\\n9907.53\\r\\n10069.665\\r\\n10116.645\\r\\n9912.39\\r\\n9719.34\\r\\n9583.53\\r\\n8530.665\\r\\n8047.905\\r\\n7582.02\\r\\n7202.67\\r\\n6665.91\\r\\n6313.695\\r\\n5827.56\\r\\n5832.285\\r\\n5835.525\\r\\n5838.9\\r\\n6014.13\\r\\n7001.385\\r\\n7757.925\\r\\n9207.285\\r\\n11600.565\\r\\n10734.945\\r\\n10893.03\\r\\n10703.895\\r\\n10197.24\\r\\n10309.425\\r\\n10229.1\\r\\n9863.925\\r\\n9961.8\\r\\n9733.785\\r\\n8670.66\\r\\n8119.86\\r\\n7715.4\\r\\n7239.12\\r\\n6754.605\\r\\n6319.5\\r\\n6003.33\\r\\n5984.835\\r\\n5939.475\\r\\n5947.575\\r\\n6052.065\\r\\n6810.63\\r\\n7702.17\\r\\n8952\\r\\n10238.01\\r\\n10716.315\\r\\n10775.175\\r\\n10665.42\\r\\n10296.06\\r\\n10335.615\\r\\n10536.765\\r\\n10345.2\\r\\n10160.385\\r\\n9947.49\\r\\n8790.54\\r\\n8256.345\\r\\n7842.435\\r\\n7407.195\\r\\n6815.49\\r\\n6491.085\\r\\n6222.165\\r\\n6176.265\\r\\n6185.715\\r\\n6143.46\\r\\n6435.195\\r\\n7293.93\\r\\n8177.37\\r\\n10113.945\\r\\n12237.9\\r\\n12434.595\\r\\n12250.455\\r\\n11672.925\\r\\n10778.82\\r\\n10914.63\\r\\n10772.745\\r\\n10767.075\\r\\n10678.65\\r\\n10603.86\\r\\n9388.995\\r\\n9079.98\\r\\n8665.53\\r\\n8177.64\\r\\n7685.835\\r\\n6782.28\\r\\n5762.355\\r\\n5640.45\\r\\n5651.79\\r\\n5978.22\\r\\n6179.37\\r\\n6716.4\\r\\n7742.4\\r\\n9786.84\\r\\n11406.3\\r\\n11508.765\\r\\n11501.07\\r\\n10487.49\\r\\n10006.08\\r\\n10404.87\\r\\n10296.735\\r\\n10191.705\\r\\n10067.235\\r\\n10048.065\\r\\n8592.36\\r\\n8086.92\\r\\n7648.305\\r\\n7256.4\\r\\n6687.645\\r\\n6258.75\\r\\n5711.595\\r\\n5659.35\\r\\n5607.645\\r\\n5672.85\\r\\n6049.77\\r\\n6629.46\\r\\n7381.41\\r\\n9631.725\\r\\n10710.645\\r\\n10848.885\\r\\n10600.08\\r\\n9894.435\\r\\n9543.57\\r\\n10184.415\\r\\n9962.745\\r\\n9800.745\\r\\n9395.745\\r\\n8914.47\\r\\n8004.3\\r\\n7560.825\\r\\n7231.83\\r\\n6858.015\\r\\n6378.63\\r\\n6077.31\\r\\n5936.235\\r\\n5948.655\\r\\n6425.475\\r\\n6422.235\\r\\n6428.58\\r\\n6864.63\\r\\n7660.86\\r\\n9605.67\\r\\n11222.025\\r\\n11294.925\\r\\n11152.095\\r\\n10270.95\\r\\n9950.595\\r\\n10754.115\\r\\n10276.08\\r\\n10009.32\\r\\n9728.115\\r\\n9027.6\\r\\n7943.82\\r\\n7457.955\\r\\n7005.975\\r\\n6709.11\\r\\n6332.73\\r\\n6096.75\\r\\n'}"
            ]
          },
          "metadata": {
            "tags": []
          },
          "execution_count": 3
        }
      ]
    },
    {
      "cell_type": "code",
      "metadata": {
        "colab": {
          "base_uri": "https://localhost:8080/"
        },
        "id": "qnY7vNXILy3p",
        "outputId": "4ab1ae4e-dd24-46df-c872-6ed3240096b3"
      },
      "source": [
        "!ls"
      ],
      "execution_count": 4,
      "outputs": [
        {
          "output_type": "stream",
          "text": [
            "heat_data.csv  sample_data\n"
          ],
          "name": "stdout"
        }
      ]
    },
    {
      "cell_type": "code",
      "metadata": {
        "colab": {
          "base_uri": "https://localhost:8080/",
          "height": 204
        },
        "id": "gwRUGzNSL570",
        "outputId": "d42de6b7-13cd-4d1b-a425-de0ee1b568a2"
      },
      "source": [
        "#1시간단위 데이터 컬럼\r\n",
        "heat_data = pd.read_csv(\"heat_data.csv\", header=None)\r\n",
        "heat_data.head()"
      ],
      "execution_count": 5,
      "outputs": [
        {
          "output_type": "execute_result",
          "data": {
            "text/html": [
              "<div>\n",
              "<style scoped>\n",
              "    .dataframe tbody tr th:only-of-type {\n",
              "        vertical-align: middle;\n",
              "    }\n",
              "\n",
              "    .dataframe tbody tr th {\n",
              "        vertical-align: top;\n",
              "    }\n",
              "\n",
              "    .dataframe thead th {\n",
              "        text-align: right;\n",
              "    }\n",
              "</style>\n",
              "<table border=\"1\" class=\"dataframe\">\n",
              "  <thead>\n",
              "    <tr style=\"text-align: right;\">\n",
              "      <th></th>\n",
              "      <th>0</th>\n",
              "    </tr>\n",
              "  </thead>\n",
              "  <tbody>\n",
              "    <tr>\n",
              "      <th>0</th>\n",
              "      <td>6046.395</td>\n",
              "    </tr>\n",
              "    <tr>\n",
              "      <th>1</th>\n",
              "      <td>6014.940</td>\n",
              "    </tr>\n",
              "    <tr>\n",
              "      <th>2</th>\n",
              "      <td>6013.050</td>\n",
              "    </tr>\n",
              "    <tr>\n",
              "      <th>3</th>\n",
              "      <td>5978.220</td>\n",
              "    </tr>\n",
              "    <tr>\n",
              "      <th>4</th>\n",
              "      <td>6165.060</td>\n",
              "    </tr>\n",
              "  </tbody>\n",
              "</table>\n",
              "</div>"
            ],
            "text/plain": [
              "          0\n",
              "0  6046.395\n",
              "1  6014.940\n",
              "2  6013.050\n",
              "3  5978.220\n",
              "4  6165.060"
            ]
          },
          "metadata": {
            "tags": []
          },
          "execution_count": 5
        }
      ]
    },
    {
      "cell_type": "code",
      "metadata": {
        "colab": {
          "base_uri": "https://localhost:8080/"
        },
        "id": "W0rr-Oz4L8hG",
        "outputId": "9b8398a0-fab9-4d42-94d4-26e51b7b43b7"
      },
      "source": [
        "heat_data.shape"
      ],
      "execution_count": 6,
      "outputs": [
        {
          "output_type": "execute_result",
          "data": {
            "text/plain": [
              "(1200, 1)"
            ]
          },
          "metadata": {
            "tags": []
          },
          "execution_count": 6
        }
      ]
    },
    {
      "cell_type": "code",
      "metadata": {
        "colab": {
          "base_uri": "https://localhost:8080/"
        },
        "id": "HmvkuBr4MDxn",
        "outputId": "dac1bcd2-904a-49fd-b136-9dc997c66e84"
      },
      "source": [
        "heat_data = np.array(heat_data) \r\n",
        "\r\n",
        "#전체 날짜 수(1시간단위=>하루는 24시간)\r\n",
        "number_of_whole_day = int(heat_data.shape[0]/24)\r\n",
        "print(f\"Number of Whole day: {number_of_whole_day}\")\r\n",
        "\r\n",
        "#하루를 예측하는 것이므로 하루를 제외한 나머지는 train+vald으로 지정\r\n",
        "number_of_trainval_day=number_of_whole_day-1\r\n",
        "print(f\"Number of train and validation day: {number_of_trainval_day}\")\r\n",
        "\r\n",
        "#train+val에서 80%를 훈련셋으로 지정  \r\n",
        "number_of_train_day = int(number_of_trainval_day * 0.8) \r\n",
        "print(f\"Number of train day: {number_of_train_day}\")"
      ],
      "execution_count": 7,
      "outputs": [
        {
          "output_type": "stream",
          "text": [
            "Number of Whole day: 50\n",
            "Number of train and validation day: 49\n",
            "Number of train day: 39\n"
          ],
          "name": "stdout"
        }
      ]
    },
    {
      "cell_type": "code",
      "metadata": {
        "id": "8GwczzfvP-qW",
        "colab": {
          "base_uri": "https://localhost:8080/"
        },
        "outputId": "d8e689f1-10f8-4b77-f699-b4885e333fdd"
      },
      "source": [
        "#train_data중에서 \r\n",
        "train_data=heat_data[:number_of_train_day*24]\r\n",
        "print(f\"Number of train data: {train_data.shape}\")\r\n",
        "\r\n",
        "valid_data=heat_data[number_of_train_day*24:-24]\r\n",
        "print(f\"Number of validation data: {valid_data.shape}\")\r\n",
        "\r\n",
        "test_data = heat_data[-24:]\r\n",
        "print(f\"Number of test data: {test_data.shape}\")"
      ],
      "execution_count": 8,
      "outputs": [
        {
          "output_type": "stream",
          "text": [
            "Number of train data: (936, 1)\n",
            "Number of validation data: (240, 1)\n",
            "Number of test data: (24, 1)\n"
          ],
          "name": "stdout"
        }
      ]
    },
    {
      "cell_type": "code",
      "metadata": {
        "id": "VeAqaie01JQV"
      },
      "source": [
        "#데이터 전처리 \r\n",
        "#이유1.LSTM내부적으로 선형 결합의 결과값을 활성화 함수를 거치는데, \r\n",
        "#이때 입력값을 0과 1사이로 만든다. 입력값을 0과 1사이로 만들지 않는다면 \r\n",
        "#그레디언트 소실이 발생할 가능성이 커짐.\r\n",
        "\r\n",
        "#이유2.입력 특성이 두가지 이상인 경우, 두 특성의 범위가 많이 다르면 모델성능 떨어짐.\r\n",
        "\r\n",
        "minmax_scaler = MinMaxScaler(feature_range=(0, 1))"
      ],
      "execution_count": 9,
      "outputs": []
    },
    {
      "cell_type": "code",
      "metadata": {
        "colab": {
          "base_uri": "https://localhost:8080/"
        },
        "id": "YJVjvoFb13K5",
        "outputId": "a3cc3c7f-f1c9-45fa-c8bf-b2ed6e9b0d39"
      },
      "source": [
        "#데이터 스케일링(0,1 사이값으로 변환)\r\n",
        "min_max_normalized_train_data=minmax_scaler.fit_transform(train_data)\r\n",
        "\r\n",
        "#fit은 사용하면 안됨.train data에서 fit했던 기준들을 이용해야하기 때문\r\n",
        "min_max_normalized_valid_data = minmax_scaler.transform(valid_data)\r\n",
        "min_max_normalized_test_data = minmax_scaler.transform(test_data)\r\n",
        "\r\n",
        "#스케일링된 결과\r\n",
        "print(min(train_data), max(train_data))\r\n",
        "print(min(min_max_normalized_train_data), max(min_max_normalized_train_data))"
      ],
      "execution_count": 17,
      "outputs": [
        {
          "output_type": "stream",
          "text": [
            "[5756.55] [14598.105]\n",
            "[0.] [1.]\n"
          ],
          "name": "stdout"
        }
      ]
    },
    {
      "cell_type": "code",
      "metadata": {
        "id": "0Waq8Sgh3-L_"
      },
      "source": [
        "#numpy를 pandas로 변환\r\n",
        "min_max_normalized_train_data = pd.DataFrame(min_max_normalized_train_data)[0]\r\n",
        "min_max_normalized_valid_data = pd.DataFrame(min_max_normalized_valid_data)[0]\r\n",
        "min_max_normalized_test_data = pd.DataFrame(min_max_normalized_test_data)[0]"
      ],
      "execution_count": 18,
      "outputs": []
    },
    {
      "cell_type": "code",
      "metadata": {
        "id": "dfW9KbFf4NCg"
      },
      "source": [
        "#학습데이터, 결과데이터 배열로 return  \r\n",
        "def split_sequence(sequence, n_steps):\r\n",
        "    X, y = list(), list()\r\n",
        "    start = sequence.index.start\r\n",
        "    for i in range(start, len(sequence)+start):\r\n",
        "        # find the end of this pattern\r\n",
        "        end_ix = i + n_steps\r\n",
        "        # check if we are beyond the sequence\r\n",
        "        if end_ix > start + len(sequence)-1:\r\n",
        "            break\r\n",
        "        # gather input and output parts of the pattern\r\n",
        "        if start > 90:\r\n",
        "            a = i - start\r\n",
        "            b = end_ix - start\r\n",
        "        else:\r\n",
        "            a = i\r\n",
        "            b = end_ix\r\n",
        "        # seq_x, seq_y = sequence[a:b], sequence[end_ix]\r\n",
        "        seq_x, seq_y = sequence[a:b], sequence[b]\r\n",
        "        X.append(seq_x)\r\n",
        "        y.append(seq_y)\r\n",
        "    return np.array(X), np.array(y)"
      ],
      "execution_count": 21,
      "outputs": []
    },
    {
      "cell_type": "code",
      "metadata": {
        "colab": {
          "base_uri": "https://localhost:8080/"
        },
        "id": "jltxmd2v4mXA",
        "outputId": "877ecb31-ffb1-4217-fd34-a4a814790588"
      },
      "source": [
        "#데이터 split을 위한 값. 2개의 input, 1개의 result   \r\n",
        "## Ex) [1, 2, 3, 4, 5], n_steps = 2 -> [[1, 2, [3]], [2, 3, [4]], [3, 4, [5]]]\r\n",
        "\r\n",
        "n_step = 2\r\n",
        "\r\n",
        "x_train, y_train = split_sequence(min_max_normalized_train_data, n_step)\r\n",
        "x_valid, y_valid = split_sequence(min_max_normalized_valid_data, n_step)\r\n",
        "x_test, y_test = split_sequence(min_max_normalized_test_data, n_step)\r\n",
        "\r\n",
        "print(x_train.shape)\r\n",
        "print(y_train.shape)"
      ],
      "execution_count": 22,
      "outputs": [
        {
          "output_type": "stream",
          "text": [
            "(934, 2)\n",
            "(934,)\n"
          ],
          "name": "stdout"
        }
      ]
    },
    {
      "cell_type": "code",
      "metadata": {
        "colab": {
          "base_uri": "https://localhost:8080/"
        },
        "id": "nVZSPbCZ7J4o",
        "outputId": "f5452178-98a5-4817-deed-976f82c67a11"
      },
      "source": [
        "#RNN- 데이터 형변환 [samples, timesteps, features]\r\n",
        "n_features = 1\r\n",
        "x_train = x_train.reshape((x_train.shape[0], x_train.shape[1], n_features))\r\n",
        "x_valid = x_valid.reshape((x_valid.shape[0], x_valid.shape[1], n_features))\r\n",
        "x_test = x_test.reshape((x_test.shape[0], x_test.shape[1], n_features))\r\n",
        "\r\n",
        "print(x_train.shape)  #shape=(2,1) 934개 \r\n",
        "print(y_train.shape)  #정답"
      ],
      "execution_count": 23,
      "outputs": [
        {
          "output_type": "stream",
          "text": [
            "(934, 2, 1)\n",
            "(934,)\n"
          ],
          "name": "stdout"
        }
      ]
    },
    {
      "cell_type": "code",
      "metadata": {
        "colab": {
          "base_uri": "https://localhost:8080/"
        },
        "id": "TLzncKTg7WoJ",
        "outputId": "9ed4e126-fdad-4838-b677-c516a7d22bee"
      },
      "source": [
        "#모델 정의\r\n",
        "#모델 성능(오류율이 5%미만이면 break, 아니면 10번 시도 후에 break)\r\n",
        "i = 0\r\n",
        "while True and i < 10:\r\n",
        "    model = Sequential()\r\n",
        "    model.add(LSTM(64, activation='relu', return_sequences=True, input_shape=(n_step, n_features)))  #input_shape=(2,1)\r\n",
        "    model.add(LSTM(128, activation='relu'))\r\n",
        "    model.add(Dense(1))\r\n",
        "    model.compile(optimizer='adam', loss='mse')\r\n",
        "\r\n",
        "    early_stop = EarlyStopping(monitor='val_loss', patience=5, verbose=1)\r\n",
        "\r\n",
        "    #model training start\r\n",
        "    #train data로 학습후, val data로 성능평가 \r\n",
        "    model.fit(x_train, y_train, epochs=100, verbose=1, validation_data=(x_valid, y_valid), callbacks=[early_stop])\r\n",
        "\r\n",
        "    #학습모델로 test data 예측  \r\n",
        "    yhat = model.predict(x_test, verbose=0)\r\n",
        "    yhat = minmax_scaler.inverse_transform(yhat)  #원래값으로 변경\r\n",
        "\r\n",
        "    #Mean absolute percentage error - https://en.wikipedia.org/wiki/Mean_absolute_percentage_error\r\n",
        "    result = np.mean(abs(test_data[n_step:] - yhat)/test_data[n_step:])  #test_data[n_step:]=test데이터[0],[1]의 y_train값\r\n",
        "    if result*100 < 5:\r\n",
        "        break\r\n",
        "    else:\r\n",
        "        del model\r\n",
        "        i+=1"
      ],
      "execution_count": 25,
      "outputs": [
        {
          "output_type": "stream",
          "text": [
            "Epoch 1/100\n",
            "30/30 [==============================] - 1s 27ms/step - loss: 0.1468 - val_loss: 0.0508\n",
            "Epoch 2/100\n",
            "30/30 [==============================] - 0s 10ms/step - loss: 0.0426 - val_loss: 0.0310\n",
            "Epoch 3/100\n",
            "30/30 [==============================] - 0s 10ms/step - loss: 0.0213 - val_loss: 0.0167\n",
            "Epoch 4/100\n",
            "30/30 [==============================] - 0s 10ms/step - loss: 0.0133 - val_loss: 0.0134\n",
            "Epoch 5/100\n",
            "30/30 [==============================] - 0s 10ms/step - loss: 0.0125 - val_loss: 0.0127\n",
            "Epoch 6/100\n",
            "30/30 [==============================] - 0s 10ms/step - loss: 0.0122 - val_loss: 0.0126\n",
            "Epoch 7/100\n",
            "30/30 [==============================] - 0s 10ms/step - loss: 0.0118 - val_loss: 0.0121\n",
            "Epoch 8/100\n",
            "30/30 [==============================] - 0s 10ms/step - loss: 0.0115 - val_loss: 0.0119\n",
            "Epoch 9/100\n",
            "30/30 [==============================] - 0s 10ms/step - loss: 0.0110 - val_loss: 0.0113\n",
            "Epoch 10/100\n",
            "30/30 [==============================] - 0s 11ms/step - loss: 0.0104 - val_loss: 0.0112\n",
            "Epoch 11/100\n",
            "30/30 [==============================] - 0s 11ms/step - loss: 0.0097 - val_loss: 0.0097\n",
            "Epoch 12/100\n",
            "30/30 [==============================] - 0s 11ms/step - loss: 0.0088 - val_loss: 0.0092\n",
            "Epoch 13/100\n",
            "30/30 [==============================] - 0s 10ms/step - loss: 0.0078 - val_loss: 0.0075\n",
            "Epoch 14/100\n",
            "30/30 [==============================] - 0s 10ms/step - loss: 0.0066 - val_loss: 0.0073\n",
            "Epoch 15/100\n",
            "30/30 [==============================] - 0s 10ms/step - loss: 0.0055 - val_loss: 0.0053\n",
            "Epoch 16/100\n",
            "30/30 [==============================] - 0s 10ms/step - loss: 0.0047 - val_loss: 0.0047\n",
            "Epoch 17/100\n",
            "30/30 [==============================] - 0s 10ms/step - loss: 0.0044 - val_loss: 0.0048\n",
            "Epoch 18/100\n",
            "30/30 [==============================] - 0s 11ms/step - loss: 0.0041 - val_loss: 0.0043\n",
            "Epoch 19/100\n",
            "30/30 [==============================] - 0s 10ms/step - loss: 0.0040 - val_loss: 0.0042\n",
            "Epoch 20/100\n",
            "30/30 [==============================] - 0s 10ms/step - loss: 0.0044 - val_loss: 0.0042\n",
            "Epoch 21/100\n",
            "30/30 [==============================] - 0s 9ms/step - loss: 0.0037 - val_loss: 0.0040\n",
            "Epoch 22/100\n",
            "30/30 [==============================] - 0s 10ms/step - loss: 0.0036 - val_loss: 0.0039\n",
            "Epoch 23/100\n",
            "30/30 [==============================] - 0s 11ms/step - loss: 0.0039 - val_loss: 0.0042\n",
            "Epoch 24/100\n",
            "30/30 [==============================] - 0s 11ms/step - loss: 0.0038 - val_loss: 0.0037\n",
            "Epoch 25/100\n",
            "30/30 [==============================] - 0s 11ms/step - loss: 0.0036 - val_loss: 0.0041\n",
            "Epoch 26/100\n",
            "30/30 [==============================] - 0s 10ms/step - loss: 0.0033 - val_loss: 0.0037\n",
            "Epoch 27/100\n",
            "30/30 [==============================] - 0s 10ms/step - loss: 0.0032 - val_loss: 0.0037\n",
            "Epoch 28/100\n",
            "30/30 [==============================] - 0s 10ms/step - loss: 0.0032 - val_loss: 0.0035\n",
            "Epoch 29/100\n",
            "30/30 [==============================] - 0s 10ms/step - loss: 0.0032 - val_loss: 0.0035\n",
            "Epoch 30/100\n",
            "30/30 [==============================] - 0s 10ms/step - loss: 0.0031 - val_loss: 0.0035\n",
            "Epoch 31/100\n",
            "30/30 [==============================] - 0s 10ms/step - loss: 0.0030 - val_loss: 0.0035\n",
            "Epoch 32/100\n",
            "30/30 [==============================] - 0s 11ms/step - loss: 0.0032 - val_loss: 0.0035\n",
            "Epoch 33/100\n",
            "30/30 [==============================] - 0s 10ms/step - loss: 0.0031 - val_loss: 0.0035\n",
            "Epoch 34/100\n",
            "30/30 [==============================] - 0s 10ms/step - loss: 0.0029 - val_loss: 0.0037\n",
            "Epoch 35/100\n",
            "30/30 [==============================] - 0s 10ms/step - loss: 0.0028 - val_loss: 0.0038\n",
            "Epoch 36/100\n",
            "30/30 [==============================] - 0s 10ms/step - loss: 0.0031 - val_loss: 0.0034\n",
            "Epoch 37/100\n",
            "30/30 [==============================] - 0s 10ms/step - loss: 0.0031 - val_loss: 0.0035\n",
            "Epoch 38/100\n",
            "30/30 [==============================] - 0s 10ms/step - loss: 0.0029 - val_loss: 0.0035\n",
            "Epoch 39/100\n",
            "30/30 [==============================] - 0s 10ms/step - loss: 0.0029 - val_loss: 0.0037\n",
            "Epoch 40/100\n",
            "30/30 [==============================] - 0s 10ms/step - loss: 0.0029 - val_loss: 0.0035\n",
            "Epoch 41/100\n",
            "30/30 [==============================] - 0s 10ms/step - loss: 0.0029 - val_loss: 0.0035\n",
            "Epoch 00041: early stopping\n"
          ],
          "name": "stdout"
        }
      ]
    },
    {
      "cell_type": "code",
      "metadata": {
        "id": "TwBfHlKL8wfK"
      },
      "source": [
        "#모델 저장\r\n",
        "#-나중에 모델을 재구성하기 위한 모델의 구성 정보\r\n",
        "#-모델를 구성하는 각 뉴런들의 가중치\r\n",
        "#-손실함수, 최적하기 등의 학습 설정\r\n",
        "#-재학습을 할 수 있도록 마지막 학습 상태\r\n",
        "model.save(\"prediction_model.h5\")\r\n",
        "\r\n",
        "#* 참고 이후 사용법\r\n",
        "# # 2. 모델 불러오기\r\n",
        "# from keras.models import load_model\r\n",
        "# model = load_model('prediction_model.h5')\r\n",
        "\r\n",
        "# # 3. 모델 사용하기\r\n",
        "# yhat = model.predict_classes(xhat) #predict_classes=가장 확률이 높은 클래스 인덱스를 알려줌"
      ],
      "execution_count": 26,
      "outputs": []
    },
    {
      "cell_type": "code",
      "metadata": {
        "colab": {
          "base_uri": "https://localhost:8080/"
        },
        "id": "sRpwrxpf-rhk",
        "outputId": "9726bff2-f47b-4872-fdf9-6ced9be5f04c"
      },
      "source": [
        "# 24로 맞추고 싶다면 테스트 데이터를 24가 아니라 전날 23시 24시 데이터를 추가해서 26으로 맞추면 됨.\r\n",
        "print(test_data[n_step:].shape)\r\n",
        "print(yhat.shape)"
      ],
      "execution_count": 31,
      "outputs": [
        {
          "output_type": "stream",
          "text": [
            "(22, 1)\n",
            "(22, 1)\n"
          ],
          "name": "stdout"
        }
      ]
    },
    {
      "cell_type": "code",
      "metadata": {
        "colab": {
          "base_uri": "https://localhost:8080/"
        },
        "id": "mSp7eV4F-IvT",
        "outputId": "8b977463-eb33-46e2-d38d-b132a08f5f5d"
      },
      "source": [
        "#Mean absolute percentage error - https://en.wikipedia.org/wiki/Mean_absolute_percentage_error\r\n",
        "result = np.mean(abs(test_data[n_step:] - yhat)/test_data[n_step:])*100\r\n",
        "print(result)"
      ],
      "execution_count": 29,
      "outputs": [
        {
          "output_type": "stream",
          "text": [
            "4.251880779520302\n"
          ],
          "name": "stdout"
        }
      ]
    },
    {
      "cell_type": "code",
      "metadata": {
        "colab": {
          "base_uri": "https://localhost:8080/",
          "height": 342
        },
        "id": "kHdMmm-L-QKR",
        "outputId": "b7a8bf06-856c-4f31-93ad-3466dfa11f4f"
      },
      "source": [
        "import matplotlib.pyplot as plt\r\n",
        "\r\n",
        "fig = plt.figure(figsize=(10, 5))\r\n",
        "ax1 = fig.add_subplot(1, 1, 1)\r\n",
        "ax1.plot(test_data[n_step:], 'b', label='Original')\r\n",
        "ax1.plot(yhat, 'r', label='Prediction')\r\n",
        "ax1.legend(loc=\"lower right\")"
      ],
      "execution_count": 30,
      "outputs": [
        {
          "output_type": "execute_result",
          "data": {
            "text/plain": [
              "<matplotlib.legend.Legend at 0x7f3702af2908>"
            ]
          },
          "metadata": {
            "tags": []
          },
          "execution_count": 30
        },
        {
          "output_type": "display_data",
          "data": {
            "image/png": "[encoded data removed]",
            "text/plain": [
              "<Figure size 720x360 with 1 Axes>"
            ]
          },
          "metadata": {
            "tags": [],
            "needs_background": "light"
          }
        }
      ]
    },
    {
      "cell_type": "code",
      "metadata": {
        "colab": {
          "base_uri": "https://localhost:8080/",
          "height": 560
        },
        "id": "PveCKKTf-Rl2",
        "outputId": "e8c07433-621f-41cf-ac8e-d84f657e2786"
      },
      "source": [
        "#모델 아키텍쳐 보기\r\n",
        "from IPython.display import SVG\r\n",
        "from keras.utils.vis_utils import model_to_dot\r\n",
        "\r\n",
        "%matplotlib inline\r\n",
        "\r\n",
        "SVG(model_to_dot(model, show_shapes=True).create(prog='dot', format='svg'))"
      ],
      "execution_count": 32,
      "outputs": [
        {
          "output_type": "execute_result",
          "data": {
            "text/plain": [
              "<IPython.core.display.SVG object>"
            ],
            "image/svg+xml": "<svg height=\"405pt\" viewBox=\"0.00 0.00 286.00 304.00\" width=\"381pt\" xmlns=\"http://www.w3.org/2000/svg\" xmlns:xlink=\"http://www.w3.org/1999/xlink\">\n<g class=\"graph\" id=\"graph0\" transform=\"scale(1.3333 1.3333) rotate(0) translate(4 300)\">\n<title>G</title>\n<polygon fill=\"#ffffff\" points=\"-4,4 -4,-300 282,-300 282,4 -4,4\" stroke=\"transparent\"/>\n<!-- 139874415678856 -->\n<g class=\"node\" id=\"node1\">\n<title>139874415678856</title>\n<polygon fill=\"none\" points=\"0,-249.5 0,-295.5 278,-295.5 278,-249.5 0,-249.5\" stroke=\"#000000\"/>\n<text fill=\"#000000\" font-family=\"Times,serif\" font-size=\"14.00\" text-anchor=\"middle\" x=\"74.5\" y=\"-268.8\">lstm_input: InputLayer</text>\n<polyline fill=\"none\" points=\"149,-249.5 149,-295.5 \" stroke=\"#000000\"/>\n<text fill=\"#000000\" font-family=\"Times,serif\" font-size=\"14.00\" text-anchor=\"middle\" x=\"178\" y=\"-280.3\">input:</text>\n<polyline fill=\"none\" points=\"149,-272.5 207,-272.5 \" stroke=\"#000000\"/>\n<text fill=\"#000000\" font-family=\"Times,serif\" font-size=\"14.00\" text-anchor=\"middle\" x=\"178\" y=\"-257.3\">output:</text>\n<polyline fill=\"none\" points=\"207,-249.5 207,-295.5 \" stroke=\"#000000\"/>\n<text fill=\"#000000\" font-family=\"Times,serif\" font-size=\"14.00\" text-anchor=\"middle\" x=\"242.5\" y=\"-280.3\">[(?, 2, 1)]</text>\n<polyline fill=\"none\" points=\"207,-272.5 278,-272.5 \" stroke=\"#000000\"/>\n<text fill=\"#000000\" font-family=\"Times,serif\" font-size=\"14.00\" text-anchor=\"middle\" x=\"242.5\" y=\"-257.3\">[(?, 2, 1)]</text>\n</g>\n<!-- 139874415951376 -->\n<g class=\"node\" id=\"node2\">\n<title>139874415951376</title>\n<polygon fill=\"none\" points=\"32,-166.5 32,-212.5 246,-212.5 246,-166.5 32,-166.5\" stroke=\"#000000\"/>\n<text fill=\"#000000\" font-family=\"Times,serif\" font-size=\"14.00\" text-anchor=\"middle\" x=\"75.5\" y=\"-185.8\">lstm: LSTM</text>\n<polyline fill=\"none\" points=\"119,-166.5 119,-212.5 \" stroke=\"#000000\"/>\n<text fill=\"#000000\" font-family=\"Times,serif\" font-size=\"14.00\" text-anchor=\"middle\" x=\"148\" y=\"-197.3\">input:</text>\n<polyline fill=\"none\" points=\"119,-189.5 177,-189.5 \" stroke=\"#000000\"/>\n<text fill=\"#000000\" font-family=\"Times,serif\" font-size=\"14.00\" text-anchor=\"middle\" x=\"148\" y=\"-174.3\">output:</text>\n<polyline fill=\"none\" points=\"177,-166.5 177,-212.5 \" stroke=\"#000000\"/>\n<text fill=\"#000000\" font-family=\"Times,serif\" font-size=\"14.00\" text-anchor=\"middle\" x=\"211.5\" y=\"-197.3\">(?, 2, 1)</text>\n<polyline fill=\"none\" points=\"177,-189.5 246,-189.5 \" stroke=\"#000000\"/>\n<text fill=\"#000000\" font-family=\"Times,serif\" font-size=\"14.00\" text-anchor=\"middle\" x=\"211.5\" y=\"-174.3\">(?, 2, 64)</text>\n</g>\n<!-- 139874415678856&#45;&gt;139874415951376 -->\n<g class=\"edge\" id=\"edge1\">\n<title>139874415678856-&gt;139874415951376</title>\n<path d=\"M139,-249.3799C139,-241.1745 139,-231.7679 139,-222.8786\" fill=\"none\" stroke=\"#000000\"/>\n<polygon fill=\"#000000\" points=\"142.5001,-222.784 139,-212.784 135.5001,-222.784 142.5001,-222.784\" stroke=\"#000000\"/>\n</g>\n<!-- 139874730105320 -->\n<g class=\"node\" id=\"node3\">\n<title>139874730105320</title>\n<polygon fill=\"none\" points=\"24.5,-83.5 24.5,-129.5 253.5,-129.5 253.5,-83.5 24.5,-83.5\" stroke=\"#000000\"/>\n<text fill=\"#000000\" font-family=\"Times,serif\" font-size=\"14.00\" text-anchor=\"middle\" x=\"75.5\" y=\"-102.8\">lstm_1: LSTM</text>\n<polyline fill=\"none\" points=\"126.5,-83.5 126.5,-129.5 \" stroke=\"#000000\"/>\n<text fill=\"#000000\" font-family=\"Times,serif\" font-size=\"14.00\" text-anchor=\"middle\" x=\"155.5\" y=\"-114.3\">input:</text>\n<polyline fill=\"none\" points=\"126.5,-106.5 184.5,-106.5 \" stroke=\"#000000\"/>\n<text fill=\"#000000\" font-family=\"Times,serif\" font-size=\"14.00\" text-anchor=\"middle\" x=\"155.5\" y=\"-91.3\">output:</text>\n<polyline fill=\"none\" points=\"184.5,-83.5 184.5,-129.5 \" stroke=\"#000000\"/>\n<text fill=\"#000000\" font-family=\"Times,serif\" font-size=\"14.00\" text-anchor=\"middle\" x=\"219\" y=\"-114.3\">(?, 2, 64)</text>\n<polyline fill=\"none\" points=\"184.5,-106.5 253.5,-106.5 \" stroke=\"#000000\"/>\n<text fill=\"#000000\" font-family=\"Times,serif\" font-size=\"14.00\" text-anchor=\"middle\" x=\"219\" y=\"-91.3\">(?, 128)</text>\n</g>\n<!-- 139874415951376&#45;&gt;139874730105320 -->\n<g class=\"edge\" id=\"edge2\">\n<title>139874415951376-&gt;139874730105320</title>\n<path d=\"M139,-166.3799C139,-158.1745 139,-148.7679 139,-139.8786\" fill=\"none\" stroke=\"#000000\"/>\n<polygon fill=\"#000000\" points=\"142.5001,-139.784 139,-129.784 135.5001,-139.784 142.5001,-139.784\" stroke=\"#000000\"/>\n</g>\n<!-- 139874414379584 -->\n<g class=\"node\" id=\"node4\">\n<title>139874414379584</title>\n<polygon fill=\"none\" points=\"33,-.5 33,-46.5 245,-46.5 245,-.5 33,-.5\" stroke=\"#000000\"/>\n<text fill=\"#000000\" font-family=\"Times,serif\" font-size=\"14.00\" text-anchor=\"middle\" x=\"79\" y=\"-19.8\">dense: Dense</text>\n<polyline fill=\"none\" points=\"125,-.5 125,-46.5 \" stroke=\"#000000\"/>\n<text fill=\"#000000\" font-family=\"Times,serif\" font-size=\"14.00\" text-anchor=\"middle\" x=\"154\" y=\"-31.3\">input:</text>\n<polyline fill=\"none\" points=\"125,-23.5 183,-23.5 \" stroke=\"#000000\"/>\n<text fill=\"#000000\" font-family=\"Times,serif\" font-size=\"14.00\" text-anchor=\"middle\" x=\"154\" y=\"-8.3\">output:</text>\n<polyline fill=\"none\" points=\"183,-.5 183,-46.5 \" stroke=\"#000000\"/>\n<text fill=\"#000000\" font-family=\"Times,serif\" font-size=\"14.00\" text-anchor=\"middle\" x=\"214\" y=\"-31.3\">(?, 128)</text>\n<polyline fill=\"none\" points=\"183,-23.5 245,-23.5 \" stroke=\"#000000\"/>\n<text fill=\"#000000\" font-family=\"Times,serif\" font-size=\"14.00\" text-anchor=\"middle\" x=\"214\" y=\"-8.3\">(?, 1)</text>\n</g>\n<!-- 139874730105320&#45;&gt;139874414379584 -->\n<g class=\"edge\" id=\"edge3\">\n<title>139874730105320-&gt;139874414379584</title>\n<path d=\"M139,-83.3799C139,-75.1745 139,-65.7679 139,-56.8786\" fill=\"none\" stroke=\"#000000\"/>\n<polygon fill=\"#000000\" points=\"142.5001,-56.784 139,-46.784 135.5001,-56.784 142.5001,-56.784\" stroke=\"#000000\"/>\n</g>\n</g>\n</svg>"
          },
          "metadata": {
            "tags": []
          },
          "execution_count": 32
        }
      ]
    },
    {
      "cell_type": "code",
      "metadata": {
        "id": "qJcHXWbPDAG4"
      },
      "source": [
        ""
      ],
      "execution_count": null,
      "outputs": []
    }
  ]
}